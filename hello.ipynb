{
 "cells": [
  {
   "cell_type": "markdown",
   "metadata": {},
   "source": [
    "# Einfache Lineare Regression (ERL)\n",
    "Dieses Skript liest einen einzelnen Sensorwert (Distanz, Analog ...) über ein Raspberry Pi aus und speichert diesen ab. Die so gesammelten Werte werden einer **Einfachen Regressionsanalyse (ERL)** unterzogen.\n",
    "\n",
    "Bei einer ERL wird davon ausgegangen, dass einem Datensatz (Punktewolke der Sensorwerte) ein lineares Modell $Y$ mit zufälligem Fehler $\\varepsilon$ zugrundegelegt werden kann. Um den Begriff \"Linear\" entsteht oft eine gewisse Verwirrung: \"linear\" kommt nicht von der linearen Funktion, welche bei der ERL gesucht wird, sondern von der [linearen Unabhängigkeit](https://de.wikipedia.org/wiki/Lineare_Unabh%C3%A4ngigkeit) der Regressionsgewichte $\\beta_1 , \\beta_2 , ...$\n",
    "\n",
    "Das Modell wird mathematisch wie folgt dargestellt:\n",
    "$$\n",
    "Y = \\beta_0 + \\beta_1 \\cdot x + \\varepsilon\n",
    "$$\n",
    "\n",
    "Kurz gesagt werden mit der ERL die Koeffizienten $b_0$ und $b_1$ der Funktion $f(x)$ geschätzt, welche das Lineare Modell $Y$ wie folgt annähert:\n",
    "$$\n",
    "    f(x) = b_0 + b_1 \\cdot x\n",
    "$$\n",
    "\n",
    "Damit kann eine beschreibbare Kurve in die Daten hinein \"gefittet\" werden.\n",
    "Die Koeffizienten $b_0$ und $b_1$ müssen daher ermittelt werden, um die Sensorwerte in Zukunft sinnvoll verrechnen zu können.\n",
    "\n",
    "<img src=\"https://upload.wikimedia.org/wikipedia/commons/3/3a/Linear_regression.svg\" width=\"200\"/>\n",
    "\n",
    "Die Abweichung der tatsächlichen Datenpunkte $y_i$ zum jeweiligen Schätzwert $f(x_i)$ wird Residuum genannt. Das Ziel jeder Regressionsmethode - die ERL ist nur eine unter vielen - ist es, die Residuen zu minimieren.\n",
    "Normalerweise wird dies über die Minimierung der Quadratsfunktion $\\sum\\limits_i \\left( y_i - f(x_i) \\right)^2$ gemacht, von wo der landläufige Begriff \"least square\" herrührt."
   ]
  },
  {
   "cell_type": "markdown",
   "metadata": {},
   "source": [
    "## Sensorwert lesen\n",
    "In diesem Abschnitt wird über die Netzwerkverbindung ein Skript auf dem Raspberry Pi ausgeführt, welches den gewünschten Sensorwert zurückgibt.\n",
    "Mit `simulation = True` kann dies simuliert werden, falls kein Raspberry Pi zur Verfügung steht."
   ]
  },
  {
   "cell_type": "code",
   "execution_count": null,
   "metadata": {},
   "outputs": [],
   "source": [
    "simulation = False # otherwise 'False'\n",
    "_noise_gain = 0.5\n",
    "#\n",
    "import random # used for simulation only\n",
    "#\n",
    "try:\n",
    "    x=float(input())\n",
    "    x=round(x, 3)\n",
    "    #\n",
    "    if(simulation == False):\n",
    "        _sens_val = !sshpass -p \"muffin\" ssh -tq -o StrictHostKeyChecking=false -o UserKnownHostsFile=/dev/null  stud@10.180.254.107 'python getVal.py'\n",
    "        _sens_val = _sens_val[0]\n",
    "    else:\n",
    "        #_sens_val = ['10'] # SSH FORMAT\n",
    "        _sens_val = x + _noise_gain*random.uniform(-1.0, 1.0)\n",
    "        _sens_val = round(_sens_val, 3)\n",
    "    #\n",
    "    print(\"Eingestellter Wert: \" + str(x))\n",
    "    print(\"Vom Sensor:         \" + str(_sens_val))\n",
    "#\n",
    "except ValueError:\n",
    "    print(\"Bitte numerischen Wert eingeben.\")\n",
    "    exit(0)"
   ]
  },
  {
   "cell_type": "markdown",
   "metadata": {},
   "source": [
    "## Werte Abspeichern"
   ]
  },
  {
   "cell_type": "code",
   "execution_count": 3,
   "metadata": {},
   "outputs": [],
   "source": [
    "_file=\"measurement.csv\"\n",
    "_entry = [x , _sens_val]\n",
    "#\n",
    "import csv\n",
    "#\n",
    "with open(r\"%s\" % _file , \"a\" ) as _f: \n",
    "    writer = csv.writer(_f)\n",
    "    writer.writerow(_entry)"
   ]
  },
  {
   "cell_type": "markdown",
   "metadata": {},
   "source": [
    "## Koeffizienten bestimmen"
   ]
  },
  {
   "cell_type": "code",
   "execution_count": 4,
   "metadata": {},
   "outputs": [
    {
     "name": "stdout",
     "output_type": "stream",
     "text": [
      "Coming soon.\n"
     ]
    }
   ],
   "source": [
    "print(\"Coming soon.\")"
   ]
  },
  {
   "cell_type": "markdown",
   "metadata": {},
   "source": [
    "## Darstellung der Daten"
   ]
  },
  {
   "cell_type": "code",
   "execution_count": 6,
   "metadata": {},
   "outputs": [
    {
     "data": {
      "image/png": "[encoded data removed]",
      "text/plain": [
       "<Figure size 360x360 with 2 Axes>"
      ]
     },
     "metadata": {
      "needs_background": "light"
     },
     "output_type": "display_data"
    }
   ],
   "source": [
    "import matplotlib.pyplot as plt\n",
    "import csv\n",
    "from numpy import genfromtxt\n",
    "import numpy\n",
    "#\n",
    "try:\n",
    "    _data = genfromtxt(_file, delimiter=',')\n",
    "    _d_len = numpy.size(_data,0)\n",
    "    if(_d_len > 2):\n",
    "        fig, axs = plt.subplots(2, 1, figsize=(5, 5))\n",
    "        axs[0].scatter(_data[:,0], _data[:,1])\n",
    "        \n",
    "#        \n",
    "except IOError:\n",
    "    print(\"File not found.\")"
   ]
  },
  {
   "cell_type": "code",
   "execution_count": 9,
   "metadata": {},
   "outputs": [
    {
     "name": "stdout",
     "output_type": "stream",
     "text": [
      "Hello\n"
     ]
    }
   ],
   "source": []
  },
  {
   "cell_type": "code",
   "execution_count": null,
   "metadata": {},
   "outputs": [],
   "source": []
  }
 ],
 "metadata": {
  "kernelspec": {
   "display_name": "Python 3",
   "language": "python",
   "name": "python3"
  },
  "language_info": {
   "codemirror_mode": {
    "name": "ipython",
    "version": 3
   },
   "file_extension": ".py",
   "mimetype": "text/x-python",
   "name": "python",
   "nbconvert_exporter": "python",
   "pygments_lexer": "ipython3",
   "version": "3.6.8"
  }
 },
 "nbformat": 4,
 "nbformat_minor": 1
}
