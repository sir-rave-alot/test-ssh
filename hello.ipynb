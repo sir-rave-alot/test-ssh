{
 "cells": [
  {
   "cell_type": "markdown",
   "metadata": {},
   "source": [
    "# Einfache Lineare Regression (ERL)\n",
    "Dieses Skript liest einen einzelnen Sensorwert (Distanz, Analog ...) über ein Raspberry Pi aus und speichert diesen ab. Die so gesammelten Werte werden einer **Einfachen Regressionsanalyse (ERL)** unterzogen.\n",
    "\n",
    "Kurz gesagt, passt (fittet) die ERL ein Lineares Modell $Y$ mit Fehler $\\varepsilon$ in eine Punktwolke (Sensorwerte). Das Modell wird mathematisch wie folgt dargestellt:\n",
    "$$\n",
    "Y = c_0 + c_1 \\cdot x + \\varepsilon\n",
    "$$\n",
    "\n",
    "Die Koeffizienten $c_0$ und $c_1$ müssen daher ermittelt werden, um die Sensorwerte in Zukunft sinnvoll verrechnen zu können.\n",
    "\n",
    "<img src=\"https://upload.wikimedia.org/wikipedia/commons/3/3a/Linear_regression.svg\" width=\"200\"/>"
   ]
  },
  {
   "cell_type": "markdown",
   "metadata": {},
   "source": [
    "## Sensorwert Lesen\n",
    "In diesem Abschnitt wird über die Netzwerkverbindung ein Skript auf dem Raspberry Pi ausgeführt, welches den gewünschten Sensorwert zurückgibt."
   ]
  },
  {
   "cell_type": "code",
   "execution_count": 1,
   "metadata": {},
   "outputs": [
    {
     "name": "stdout",
     "output_type": "stream",
     "text": [
      "6\n",
      "Eingestellter Wert: 6.0\n",
      "Vom Sensor:         5.561\n"
     ]
    }
   ],
   "source": [
    "simulation = True # otherwise 'False'\n",
    "_noise_gain = 0.5\n",
    "#\n",
    "import random # used for simulation only\n",
    "#\n",
    "try:\n",
    "    x=float(input())\n",
    "    x=round(x, 3)\n",
    "    #\n",
    "    if(simulation == False):\n",
    "        _sens_val = !sshpass -p \"muffin\" ssh -tq -o StrictHostKeyChecking=false -o UserKnownHostsFile=/dev/null  stud@10.180.254.107 'python getVal.py'\n",
    "    else:\n",
    "        #_sens_val = ['10'] # SSH FORMAT\n",
    "        _sens_val = x + _noise_gain*random.uniform(-1.0, 1.0)\n",
    "        _sens_val = round(_sens_val, 3)\n",
    "    #\n",
    "    print(\"Eingestellter Wert: \" + str(x))\n",
    "    print(\"Vom Sensor:         \" + str(_sens_val))\n",
    "#\n",
    "except ValueError:\n",
    "    print(\"Bitte numerischen Wert eingeben.\")\n",
    "    exit(0)"
   ]
  },
  {
   "cell_type": "markdown",
   "metadata": {},
   "source": [
    "## Werte Abspeichern"
   ]
  },
  {
   "cell_type": "code",
   "execution_count": 2,
   "metadata": {},
   "outputs": [],
   "source": [
    "_file=\"measurement.csv\"\n",
    "_entry = [x , _sens_val]\n",
    "#\n",
    "import csv\n",
    "#\n",
    "with open(r\"%s\" % _file , \"a\" ) as _f: \n",
    "    writer = csv.writer(_f)\n",
    "    writer.writerow(_entry)"
   ]
  },
  {
   "cell_type": "markdown",
   "metadata": {},
   "source": [
    "## Koeffizienten bestimmen"
   ]
  },
  {
   "cell_type": "code",
   "execution_count": 3,
   "metadata": {},
   "outputs": [
    {
     "name": "stdout",
     "output_type": "stream",
     "text": [
      "Coming soon.\n"
     ]
    }
   ],
   "source": [
    "print(\"Coming soon.\")"
   ]
  },
  {
   "cell_type": "markdown",
   "metadata": {},
   "source": [
    "## Darstellung der Daten"
   ]
  },
  {
   "cell_type": "code",
   "execution_count": 5,
   "metadata": {},
   "outputs": [
    {
     "data": {
      "image/png": "[encoded data removed]",
      "text/plain": [
       "<Figure size 360x360 with 2 Axes>"
      ]
     },
     "metadata": {
      "needs_background": "light"
     },
     "output_type": "display_data"
    }
   ],
   "source": [
    "import matplotlib.pyplot as plt\n",
    "import csv\n",
    "from numpy import genfromtxt\n",
    "import numpy\n",
    "#\n",
    "try:\n",
    "    _data = genfromtxt(_file, delimiter=',')\n",
    "    _d_len = numpy.size(_data,0)\n",
    "    if(_d_len > 2):\n",
    "        fig, axs = plt.subplots(2, 1, figsize=(5, 5))\n",
    "        axs[0].scatter(_data[:,0], _data[:,1])\n",
    "        \n",
    "#        \n",
    "except IOError:\n",
    "    print(\"File not found.\")"
   ]
  },
  {
   "cell_type": "code",
   "execution_count": null,
   "metadata": {},
   "outputs": [],
   "source": []
  }
 ],
 "metadata": {
  "kernelspec": {
   "display_name": "Python 3",
   "language": "python",
   "name": "python3"
  },
  "language_info": {
   "codemirror_mode": {
    "name": "ipython",
    "version": 3
   },
   "file_extension": ".py",
   "mimetype": "text/x-python",
   "name": "python",
   "nbconvert_exporter": "python",
   "pygments_lexer": "ipython3",
   "version": "3.6.8"
  }
 },
 "nbformat": 4,
 "nbformat_minor": 1
}
