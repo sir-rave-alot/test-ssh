{
 "cells": [
  {
   "cell_type": "markdown",
   "metadata": {},
   "source": [
    "# Einfache Lineare Regression (ERL)\n",
    "Dieses Skript liest einen einzelnen Sensorwert (Distanz, Analog ...) über ein Raspberry Pi aus und speichert diesen ab. Die so gesammelten Werte werden einer **Einfachen Regressionsanalyse (ERL)** unterzogen.\n",
    "\n",
    "Bei einer ERL wird davon ausgegangen, dass einem Datensatz (Punktewolke der Sensorwerte) ein lineares Modell $Y$ mit zufälligem Fehler $\\varepsilon$ zugrundegelegt werden kann. Das Modell wird mathematisch wie folgt dargestellt:\n",
    "$$\n",
    "Y = \\beta_0 + \\beta_1 \\cdot x + \\varepsilon\n",
    "$$\n",
    "Um den Begriff \"Linear\" entsteht oft eine gewisse Verwirrung: \"linear\" kommt nicht von der linearen Funktion, welche bei der ERL gesucht wird, sondern von der [linearen Unabhängigkeit](https://de.wikipedia.org/wiki/Lineare_Unabh%C3%A4ngigkeit) der Regressionsgewichte $\\beta_1 , \\beta_2 , ...$\n",
    "\n",
    "\n",
    "Kurz gesagt, werden mit der ERL die Koeffizienten $b_0$ und $b_1$ der Funktion $f(x)$ geschätzt, welche das Lineare Modell $Y$ wie folgt annähert:\n",
    "$$\n",
    "    f(x) = b_0 + b_1 \\cdot x\n",
    "$$\n",
    "\n",
    "Damit kann eine beschreibbare Kurve in die Daten hinein \"gefittet\" werden.\n",
    "Die Koeffizienten $b_0$ und $b_1$ müssen daher ermittelt werden, um die Sensorwerte in Zukunft sinnvoll verrechnen zu können.\n",
    "\n",
    "<img src=\"https://upload.wikimedia.org/wikipedia/commons/3/3a/Linear_regression.svg\" width=\"200\"/>\n",
    "\n",
    "Die Abweichung der tatsächlichen Datenpunkte $y_i$ zum jeweiligen Schätzwert $f(x_i)$ wird Residuum genannt. Das Ziel jeder Regressionsmethode - die ERL ist nur eine unter vielen - ist es, die Residuen zu minimieren.\n",
    "Normalerweise wird dies über die Minimierung der Quadratsfunktion $\\sum\\limits_i \\left( y_i - f(x_i) \\right)^2$ gemacht, von wo der landläufige Begriff \"least square\" herrührt."
   ]
  },
  {
   "cell_type": "markdown",
   "metadata": {},
   "source": [
    "## Sensorwert lesen\n",
    "In diesem Abschnitt wird über die Netzwerkverbindung ein Skript auf dem Raspberry Pi ausgeführt, welches den gewünschten Sensorwert zurückgibt.\n",
    "Mit `simulation = True` kann dies simuliert werden, falls kein Raspberry Pi zur Verfügung steht."
   ]
  },
  {
   "cell_type": "code",
   "execution_count": 1,
   "metadata": {},
   "outputs": [
    {
     "name": "stdout",
     "output_type": "stream",
     "text": [
      "2\n",
      "Eingestellter Wert: 2.0\n",
      "Vom Sensor:         2.337\n"
     ]
    }
   ],
   "source": [
    "simulation = True # otherwise 'False'\n",
    "_noise_gain = 0.5\n",
    "#\n",
    "import random # used for simulation only\n",
    "#\n",
    "try:\n",
    "    x=float(input())\n",
    "    x=round(x, 3)\n",
    "    #\n",
    "    if(simulation == False):\n",
    "        _sens_val = !sshpass -p \"muffin\" ssh -tq -o StrictHostKeyChecking=false -o UserKnownHostsFile=/dev/null  stud@10.180.254.107 'python getVal.py'\n",
    "        _sens_val = _sens_val[0]\n",
    "    else:\n",
    "        #_sens_val = ['10'] # SSH FORMAT\n",
    "        _sens_val = x + _noise_gain*random.uniform(-1.0, 1.0)\n",
    "        _sens_val = round(_sens_val, 3)\n",
    "    #\n",
    "    print(\"Eingestellter Wert: \" + str(x))\n",
    "    print(\"Vom Sensor:         \" + str(_sens_val))\n",
    "#\n",
    "except ValueError:\n",
    "    print(\"Bitte numerischen Wert eingeben.\")\n",
    "    exit(0)"
   ]
  },
  {
   "cell_type": "markdown",
   "metadata": {},
   "source": [
    "## Werte Abspeichern"
   ]
  },
  {
   "cell_type": "code",
   "execution_count": 2,
   "metadata": {},
   "outputs": [],
   "source": [
    "_file=\"measurement.csv\"\n",
    "_entry = [x , _sens_val]\n",
    "#\n",
    "import csv\n",
    "#\n",
    "with open(r\"%s\" % _file , \"a\" ) as _f: \n",
    "    writer = csv.writer(_f)\n",
    "    writer.writerow(_entry)"
   ]
  },
  {
   "cell_type": "markdown",
   "metadata": {},
   "source": [
    "## Daten einlesen"
   ]
  },
  {
   "cell_type": "code",
   "execution_count": 13,
   "metadata": {},
   "outputs": [
    {
     "name": "stdout",
     "output_type": "stream",
     "text": [
      "[[1.    0.832]\n",
      " [2.    1.526]\n",
      " [3.    2.69 ]\n",
      " [4.    4.157]\n",
      " [5.    4.571]\n",
      " [6.    5.561]\n",
      " [7.    7.116]\n",
      " [8.    7.689]\n",
      " [9.    9.01 ]]\n"
     ]
    }
   ],
   "source": [
    "import numpy\n",
    "from numpy import genfromtxt\n",
    "\n",
    "try:\n",
    "    _data = genfromtxt(_file, delimiter=',')\n",
    "    _d_len = numpy.size(_data,0)\n",
    "\n",
    "except IOError:\n",
    "    print(\"File not found.\")\n",
    "\n",
    "print(_data)"
   ]
  },
  {
   "cell_type": "markdown",
   "metadata": {},
   "source": [
    "## Koeffizienten bestimmen"
   ]
  },
  {
   "cell_type": "code",
   "execution_count": 14,
   "metadata": {},
   "outputs": [
    {
     "name": "stdout",
     "output_type": "stream",
     "text": [
      "B0 = -0.32675000000000054\n",
      "B1 = 1.0242833333333334\n"
     ]
    }
   ],
   "source": [
    "from scipy import stats\n",
    "import numpy\n",
    "if(_d_len > 2):\n",
    "    _b1, _b0, r_value, p_value, std_err = stats.linregress(_data[:,0], _data[:,1])\n",
    "    \n",
    "    est = lambda t: _b0 + _b1*t\n",
    "    erl = numpy.vectorize(est)\n",
    "    _f = erl(_data[:,0])\n",
    "    \n",
    "    print(\"B0 = \" + str(_b0))\n",
    "    print(\"B1 = \" + str(_b1))"
   ]
  },
  {
   "cell_type": "code",
   "execution_count": 18,
   "metadata": {},
   "outputs": [],
   "source": [
    "# Bestimmtheitsmass\n",
    "from scipy import stats\n",
    "_r = []\n",
    "_n = []\n",
    "for i in range(3,_d_len+1):\n",
    "    t_b1, t_b0, t_r_value, t_p_value, t_std_err = stats.linregress(_data[0:i,0], _data[0:i,1])\n",
    "    _r.append(t_r_value)\n",
    "    _n.append(i)"
   ]
  },
  {
   "cell_type": "markdown",
   "metadata": {},
   "source": [
    "## Darstellung der Daten"
   ]
  },
  {
   "cell_type": "code",
   "execution_count": 17,
   "metadata": {},
   "outputs": [
    {
     "data": {
      "image/png": "[encoded data removed]",
      "text/plain": [
       "<Figure size 432x288 with 2 Axes>"
      ]
     },
     "metadata": {
      "needs_background": "light"
     },
     "output_type": "display_data"
    }
   ],
   "source": [
    "import matplotlib.pyplot as plt\n",
    "import numpy\n",
    "#\n",
    "plt.subplots_adjust(left=None, bottom=None, right=None, top=None, wspace=None, hspace=1)\n",
    "if(_d_len > 2): \n",
    "    ax1 = plt.subplot(2, 1, 1)\n",
    "    plt.plot(_data[:,0], _data[:,1], 'o')\n",
    "    plt.plot(_data[:,0], _f, '-')\n",
    "    plt.title('Einfache Lineare Regression')\n",
    "    plt.xlabel('x', axes=ax1)\n",
    "    plt.ylabel('y', axes=ax1)\n",
    "    #\n",
    "    ax2 = plt.subplot(2, 1, 2)\n",
    "    plt.plot(_n,_r, '.-')\n",
    "    plt.xlabel('n', axes=ax2)\n",
    "    plt.ylabel('r', axes=ax2)\n",
    "\n",
    "    plt.show()"
   ]
  },
  {
   "cell_type": "code",
   "execution_count": 8,
   "metadata": {},
   "outputs": [
    {
     "name": "stdout",
     "output_type": "stream",
     "text": [
      "3\n"
     ]
    }
   ],
   "source": []
  },
  {
   "cell_type": "code",
   "execution_count": null,
   "metadata": {},
   "outputs": [],
   "source": []
  }
 ],
 "metadata": {
  "kernelspec": {
   "display_name": "Python 3",
   "language": "python",
   "name": "python3"
  },
  "language_info": {
   "codemirror_mode": {
    "name": "ipython",
    "version": 3
   },
   "file_extension": ".py",
   "mimetype": "text/x-python",
   "name": "python",
   "nbconvert_exporter": "python",
   "pygments_lexer": "ipython3",
   "version": "3.6.8"
  }
 },
 "nbformat": 4,
 "nbformat_minor": 1
}
